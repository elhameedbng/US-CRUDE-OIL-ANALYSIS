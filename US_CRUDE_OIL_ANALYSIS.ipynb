{
 "cells": [
  {
   "cell_type": "markdown",
   "id": "2339e356",
   "metadata": {},
   "source": [
    "<div style=\"text-align: center; background-color: cream;\">\n",
    "  <h1 style=\"color: #4B0082, font-family: 'Merriweather', serif;\">US CRUDE OIL ANALYSIS</h1>\n",
    "    <br>\n",
    "    <b>By Abdulhamid Abdulhamid</b>\n",
    "</div>"
   ]
  },
  {
   "cell_type": "markdown",
   "id": "26626a85",
   "metadata": {},
   "source": [
    "<img src=\"https://dmarketforces.com/wp-content/uploads/2022/10/Crude-Oil-Prices-Rise-as-US-Dollar-Slides-696x392.jpg\" alt=\"image name\" style=\"max-width: 100%;\">\n",
    "\n",
    "## Table of Contents\n",
    "<ul>\n",
    "<li><a href=\"#intro\">1. Introduction</a></li>\n",
    "<li><a href=\"#wrangling\">2. Data Wrangling</a></li>\n",
    "<li><a href=\"#eda\">3. Exploratory Data Analysis</a></li>\n",
    "<li><a href=\"#conclusion\">4. CONCLUSION </a></li>\n",
    "</ul>"
   ]
  },
  {
   "cell_type": "markdown",
   "id": "8bcf1f65",
   "metadata": {},
   "source": [
    "<div id='intro'></div>\n",
    "\n",
    "## 1. Introduction\n",
    "Crude oil is a naturally occurring, unrefined petroleum product composed of hydrocarbon deposits and other organic materials. It is a fossil fuel that is refined to produce usable products such as gasoline, diesel, and various forms of petrochemicals. The United States imports crude oil from various countries to supplement its domestic production.\n",
    "This analysis on thisimportant as it not only enable us to understand trend, patterns and behaviour of the supply, but also le stakeholders to understand the source of pollution, identify countrues with better environmentally friendly crude oil, help make budget, and to also make forecast on the price of crude oil in years to come.\n",
    "In this notebook, I will analyze the data across different regions and countries over the years to gain insights into their trends and behaviour. The analysis would also help the US government to make informed-decisons. finally, I will use this data to make future forecast of the quantity of crude oil.\n",
    "\n",
    "### 1.1 Dataset description\n",
    "The file `us_crude_oil_datat.csv` was obtained from [Kaggle](https://www.kaggle.com/datasets/alistairking/u-s-crude-oil-imports) website. It consists of crude oil importation to the US from 2009 to 2024. The file has the following columns:\n",
    "- `year`: The year of the import.\n",
    "- `month`:The month of the import.\n",
    "- `originName`:\tThe name of the place where the crude oil was exported from.\n",
    "- `originTypeName`:The type of location the crude oil was exported from (e.g. country, region, etc.).\n",
    "- `destinationName`:The name of the place in the U.S. receiving the crude oil.\n",
    "- `destinationTypeName`:The type of destination (e.g., port, refinery).\n",
    "- `gradeName`:The grade or type of crude oil imported (e.g., Light Sweet, Heavy Sour).\n",
    "- `quantity`:The volume of crude oil imported, measured in thousands of barrels.\n",
    "\n",
    "### 1.2 Importing dependencies\n",
    "The following packages are essential to running this project successfully: `numpy, pandas, matplotlib, seaborn, and sklearn`."
   ]
  },
  {
   "cell_type": "code",
   "execution_count": 1,
   "id": "8e1548fc",
   "metadata": {},
   "outputs": [],
   "source": [
    "# importing data analysis libraries\n",
    "import numpy as np\n",
    "import pandas as pd\n",
    "\n",
    "# importing visualization libraries\n",
    "import matplotlib.pyplot as plt\n",
    "%matplotlib inline\n",
    "\n",
    "import seaborn as sns\n",
    "# overriding matplotlib \n",
    "sns.set()\n",
    "\n",
    "# import datetime\n",
    "import datetime as dt\n",
    "\n",
    "# import the preprocessing classes\n",
    "from sklearn.preprocessing import StandardScaler\n",
    "from sklearn.preprocessing import MinMaxScaler\n",
    "\n",
    "# import train/test split module\n",
    "from sklearn.model_selection import train_test_split\n",
    "\n",
    "# import the regressors\n",
    "from sklearn.linear_model import LinearRegression\n",
    "from sklearn.preprocessing import PolynomialFeatures\n",
    "from sklearn.pipeline import Pipeline\n",
    "from sklearn.linear_model import Ridge\n",
    "from sklearn.linear_model import Lasso\n",
    "from sklearn.linear_model import ElasticNet\n",
    "from sklearn.tree import DecisionTreeRegressor\n",
    "from sklearn.ensemble import RandomForestRegressor\n",
    "from sklearn.ensemble import GradientBoostingRegressor\n",
    "from sklearn.neural_network import MLPRegressor\n",
    "from sklearn.svm import SVR\n",
    "from sklearn.neighbors import KNeighborsRegressor\n",
    "from sklearn.pipeline import make_pipeline\n",
    "\n",
    "# import metrics\n",
    "from sklearn.metrics import mean_squared_error\n",
    "\n",
    "# import warnings\n",
    "import warnings \n",
    "warnings.filterwarnings('ignore')"
   ]
  },
  {
   "cell_type": "markdown",
   "id": "11e8897f",
   "metadata": {},
   "source": [
    "### 1.3 Loading the dataset"
   ]
  },
  {
   "cell_type": "code",
   "execution_count": 2,
   "id": "45002479",
   "metadata": {},
   "outputs": [],
   "source": [
    "df = pd.read_csv(\"us_crude_oil_data.csv\")"
   ]
  },
  {
   "cell_type": "code",
   "execution_count": 3,
   "id": "eb6784dc",
   "metadata": {},
   "outputs": [
    {
     "data": {
      "text/html": [
       "<div>\n",
       "<style scoped>\n",
       "    .dataframe tbody tr th:only-of-type {\n",
       "        vertical-align: middle;\n",
       "    }\n",
       "\n",
       "    .dataframe tbody tr th {\n",
       "        vertical-align: top;\n",
       "    }\n",
       "\n",
       "    .dataframe thead th {\n",
       "        text-align: right;\n",
       "    }\n",
       "</style>\n",
       "<table border=\"1\" class=\"dataframe\">\n",
       "  <thead>\n",
       "    <tr style=\"text-align: right;\">\n",
       "      <th></th>\n",
       "      <th>year</th>\n",
       "      <th>month</th>\n",
       "      <th>originName</th>\n",
       "      <th>originTypeName</th>\n",
       "      <th>destinationName</th>\n",
       "      <th>destinationTypeName</th>\n",
       "      <th>gradeName</th>\n",
       "      <th>quantity</th>\n",
       "    </tr>\n",
       "  </thead>\n",
       "  <tbody>\n",
       "    <tr>\n",
       "      <th>0</th>\n",
       "      <td>2009</td>\n",
       "      <td>1</td>\n",
       "      <td>Belize</td>\n",
       "      <td>Country</td>\n",
       "      <td>EXXONMOBIL REFINING &amp; SPLY CO / BEAUMONT / TX</td>\n",
       "      <td>Refinery</td>\n",
       "      <td>Light Sour</td>\n",
       "      <td>61</td>\n",
       "    </tr>\n",
       "    <tr>\n",
       "      <th>1</th>\n",
       "      <td>2009</td>\n",
       "      <td>1</td>\n",
       "      <td>Belize</td>\n",
       "      <td>Country</td>\n",
       "      <td>FLINT HILLS RESOURCES LP / WEST / TX</td>\n",
       "      <td>Refinery</td>\n",
       "      <td>Light Sour</td>\n",
       "      <td>62</td>\n",
       "    </tr>\n",
       "    <tr>\n",
       "      <th>2</th>\n",
       "      <td>2009</td>\n",
       "      <td>1</td>\n",
       "      <td>Algeria</td>\n",
       "      <td>Country</td>\n",
       "      <td>SHELL OIL PRODUCTS US / ST ROSE / LA</td>\n",
       "      <td>Refinery</td>\n",
       "      <td>Light Sweet</td>\n",
       "      <td>10</td>\n",
       "    </tr>\n",
       "    <tr>\n",
       "      <th>3</th>\n",
       "      <td>2009</td>\n",
       "      <td>1</td>\n",
       "      <td>Algeria</td>\n",
       "      <td>Country</td>\n",
       "      <td>OIL TANKING PL INC / HOUSTON (GULF) / TX</td>\n",
       "      <td>Refinery</td>\n",
       "      <td>Light Sweet</td>\n",
       "      <td>381</td>\n",
       "    </tr>\n",
       "    <tr>\n",
       "      <th>4</th>\n",
       "      <td>2009</td>\n",
       "      <td>1</td>\n",
       "      <td>Algeria</td>\n",
       "      <td>Country</td>\n",
       "      <td>UNKNOWN PROCESSOR-TX / UNKNOWN PROCESSOR-TX / TX</td>\n",
       "      <td>Refinery</td>\n",
       "      <td>Light Sweet</td>\n",
       "      <td>851</td>\n",
       "    </tr>\n",
       "  </tbody>\n",
       "</table>\n",
       "</div>"
      ],
      "text/plain": [
       "   year  month originName originTypeName  \\\n",
       "0  2009      1     Belize        Country   \n",
       "1  2009      1     Belize        Country   \n",
       "2  2009      1    Algeria        Country   \n",
       "3  2009      1    Algeria        Country   \n",
       "4  2009      1    Algeria        Country   \n",
       "\n",
       "                                    destinationName destinationTypeName  \\\n",
       "0     EXXONMOBIL REFINING & SPLY CO / BEAUMONT / TX            Refinery   \n",
       "1              FLINT HILLS RESOURCES LP / WEST / TX            Refinery   \n",
       "2              SHELL OIL PRODUCTS US / ST ROSE / LA            Refinery   \n",
       "3          OIL TANKING PL INC / HOUSTON (GULF) / TX            Refinery   \n",
       "4  UNKNOWN PROCESSOR-TX / UNKNOWN PROCESSOR-TX / TX            Refinery   \n",
       "\n",
       "     gradeName  quantity  \n",
       "0   Light Sour        61  \n",
       "1   Light Sour        62  \n",
       "2  Light Sweet        10  \n",
       "3  Light Sweet       381  \n",
       "4  Light Sweet       851  "
      ]
     },
     "execution_count": 3,
     "metadata": {},
     "output_type": "execute_result"
    }
   ],
   "source": [
    "df.head()"
   ]
  },
  {
   "cell_type": "code",
   "execution_count": 4,
   "id": "028399cb",
   "metadata": {
    "scrolled": false
   },
   "outputs": [
    {
     "data": {
      "text/html": [
       "<div>\n",
       "<style scoped>\n",
       "    .dataframe tbody tr th:only-of-type {\n",
       "        vertical-align: middle;\n",
       "    }\n",
       "\n",
       "    .dataframe tbody tr th {\n",
       "        vertical-align: top;\n",
       "    }\n",
       "\n",
       "    .dataframe thead th {\n",
       "        text-align: right;\n",
       "    }\n",
       "</style>\n",
       "<table border=\"1\" class=\"dataframe\">\n",
       "  <thead>\n",
       "    <tr style=\"text-align: right;\">\n",
       "      <th></th>\n",
       "      <th>year</th>\n",
       "      <th>month</th>\n",
       "      <th>originName</th>\n",
       "      <th>originTypeName</th>\n",
       "      <th>destinationName</th>\n",
       "      <th>destinationTypeName</th>\n",
       "      <th>gradeName</th>\n",
       "      <th>quantity</th>\n",
       "    </tr>\n",
       "  </thead>\n",
       "  <tbody>\n",
       "    <tr>\n",
       "      <th>483048</th>\n",
       "      <td>2024</td>\n",
       "      <td>1</td>\n",
       "      <td>World</td>\n",
       "      <td>World</td>\n",
       "      <td>United States</td>\n",
       "      <td>United States</td>\n",
       "      <td>Heavy Sour</td>\n",
       "      <td>120942</td>\n",
       "    </tr>\n",
       "    <tr>\n",
       "      <th>483049</th>\n",
       "      <td>2024</td>\n",
       "      <td>1</td>\n",
       "      <td>World</td>\n",
       "      <td>World</td>\n",
       "      <td>United States</td>\n",
       "      <td>United States</td>\n",
       "      <td>Heavy Sweet</td>\n",
       "      <td>8859</td>\n",
       "    </tr>\n",
       "    <tr>\n",
       "      <th>483050</th>\n",
       "      <td>2024</td>\n",
       "      <td>1</td>\n",
       "      <td>World</td>\n",
       "      <td>World</td>\n",
       "      <td>United States</td>\n",
       "      <td>United States</td>\n",
       "      <td>Light Sour</td>\n",
       "      <td>7811</td>\n",
       "    </tr>\n",
       "    <tr>\n",
       "      <th>483051</th>\n",
       "      <td>2024</td>\n",
       "      <td>1</td>\n",
       "      <td>World</td>\n",
       "      <td>World</td>\n",
       "      <td>United States</td>\n",
       "      <td>United States</td>\n",
       "      <td>Light Sweet</td>\n",
       "      <td>12553</td>\n",
       "    </tr>\n",
       "    <tr>\n",
       "      <th>483052</th>\n",
       "      <td>2024</td>\n",
       "      <td>1</td>\n",
       "      <td>World</td>\n",
       "      <td>World</td>\n",
       "      <td>United States</td>\n",
       "      <td>United States</td>\n",
       "      <td>Medium</td>\n",
       "      <td>55237</td>\n",
       "    </tr>\n",
       "  </tbody>\n",
       "</table>\n",
       "</div>"
      ],
      "text/plain": [
       "        year  month originName originTypeName destinationName  \\\n",
       "483048  2024      1      World          World   United States   \n",
       "483049  2024      1      World          World   United States   \n",
       "483050  2024      1      World          World   United States   \n",
       "483051  2024      1      World          World   United States   \n",
       "483052  2024      1      World          World   United States   \n",
       "\n",
       "       destinationTypeName    gradeName  quantity  \n",
       "483048       United States   Heavy Sour    120942  \n",
       "483049       United States  Heavy Sweet      8859  \n",
       "483050       United States   Light Sour      7811  \n",
       "483051       United States  Light Sweet     12553  \n",
       "483052       United States       Medium     55237  "
      ]
     },
     "execution_count": 4,
     "metadata": {},
     "output_type": "execute_result"
    }
   ],
   "source": [
    "df.tail()"
   ]
  },
  {
   "cell_type": "markdown",
   "id": "34b6dd75",
   "metadata": {},
   "source": [
    "<div id='wrangling'></div>\n",
    "\n",
    "## 2. Data Wrangling\n",
    "In this section, we will identify and address any errors, inconsistencies, missing values, or duplicate entries in the dataset. This will ensure that the dataset is accurate, consistent, and complete, and will make it more suitable for analysis. \n",
    "\n",
    "Thus we will address the following questions to ensure the quality and reliability of the dataset:\n",
    "1. Check for missing values, duplicates, and outliers. These are all issues that may affect our analysis.\n",
    "\n",
    "**1. Are there any missing values in the dataset, and if so, what is their extent and data type?**"
   ]
  },
  {
   "cell_type": "code",
   "execution_count": 5,
   "id": "568930af",
   "metadata": {
    "scrolled": false
   },
   "outputs": [
    {
     "name": "stdout",
     "output_type": "stream",
     "text": [
      "<class 'pandas.core.frame.DataFrame'>\n",
      "RangeIndex: 483053 entries, 0 to 483052\n",
      "Data columns (total 8 columns):\n",
      " #   Column               Non-Null Count   Dtype \n",
      "---  ------               --------------   ----- \n",
      " 0   year                 483053 non-null  int64 \n",
      " 1   month                483053 non-null  int64 \n",
      " 2   originName           483053 non-null  object\n",
      " 3   originTypeName       483053 non-null  object\n",
      " 4   destinationName      483053 non-null  object\n",
      " 5   destinationTypeName  483053 non-null  object\n",
      " 6   gradeName            483053 non-null  object\n",
      " 7   quantity             483053 non-null  int64 \n",
      "dtypes: int64(3), object(5)\n",
      "memory usage: 29.5+ MB\n"
     ]
    }
   ],
   "source": [
    "df.info()"
   ]
  },
  {
   "cell_type": "markdown",
   "id": "c77111d7",
   "metadata": {},
   "source": [
    "From the above we can observe that there are no mising and no null values. But the year and month supposed to be in date-time format. Also, we need to create a column that contain the destination of the companies in the `destinationName` column later"
   ]
  },
  {
   "cell_type": "markdown",
   "id": "2e25a574",
   "metadata": {},
   "source": [
    "**2. Are there are any duplicate values?**"
   ]
  },
  {
   "cell_type": "code",
   "execution_count": 6,
   "id": "03593010",
   "metadata": {},
   "outputs": [
    {
     "data": {
      "text/html": [
       "<div>\n",
       "<style scoped>\n",
       "    .dataframe tbody tr th:only-of-type {\n",
       "        vertical-align: middle;\n",
       "    }\n",
       "\n",
       "    .dataframe tbody tr th {\n",
       "        vertical-align: top;\n",
       "    }\n",
       "\n",
       "    .dataframe thead th {\n",
       "        text-align: right;\n",
       "    }\n",
       "</style>\n",
       "<table border=\"1\" class=\"dataframe\">\n",
       "  <thead>\n",
       "    <tr style=\"text-align: right;\">\n",
       "      <th></th>\n",
       "      <th>year</th>\n",
       "      <th>month</th>\n",
       "      <th>originName</th>\n",
       "      <th>originTypeName</th>\n",
       "      <th>destinationName</th>\n",
       "      <th>destinationTypeName</th>\n",
       "      <th>gradeName</th>\n",
       "      <th>quantity</th>\n",
       "    </tr>\n",
       "  </thead>\n",
       "  <tbody>\n",
       "  </tbody>\n",
       "</table>\n",
       "</div>"
      ],
      "text/plain": [
       "Empty DataFrame\n",
       "Columns: [year, month, originName, originTypeName, destinationName, destinationTypeName, gradeName, quantity]\n",
       "Index: []"
      ]
     },
     "execution_count": 6,
     "metadata": {},
     "output_type": "execute_result"
    }
   ],
   "source": [
    "# Check for duplicate rows\n",
    "duplicate_rows = df[df.duplicated()]\n",
    "\n",
    "duplicate_rows"
   ]
  },
  {
   "cell_type": "markdown",
   "id": "6eba3dd7",
   "metadata": {},
   "source": [
    "This means that there are no duplicates values"
   ]
  },
  {
   "cell_type": "markdown",
   "id": "14c49bb5",
   "metadata": {},
   "source": [
    "**3. Check for Outliers**"
   ]
  },
  {
   "cell_type": "code",
   "execution_count": 7,
   "id": "582de8f3",
   "metadata": {
    "scrolled": true
   },
   "outputs": [
    {
     "data": {
      "text/plain": [
       "344943    141016\n",
       "257194    140989\n",
       "352401    140611\n",
       "296980    140133\n",
       "294441    140107\n",
       "           ...  \n",
       "160592         1\n",
       "269376         1\n",
       "188808         1\n",
       "203340         1\n",
       "398656         1\n",
       "Name: quantity, Length: 483053, dtype: int64"
      ]
     },
     "execution_count": 7,
     "metadata": {},
     "output_type": "execute_result"
    }
   ],
   "source": [
    "df.quantity.sort_values(ascending=False)"
   ]
  },
  {
   "cell_type": "code",
   "execution_count": 8,
   "id": "cf8c0e58",
   "metadata": {
    "scrolled": false
   },
   "outputs": [
    {
     "data": {
      "text/plain": [
       "<AxesSubplot:xlabel='quantity'>"
      ]
     },
     "execution_count": 8,
     "metadata": {},
     "output_type": "execute_result"
    },
    {
     "data": {
      "image/png": "[encoded data removed]",
      "text/plain": [
       "<Figure size 432x288 with 1 Axes>"
      ]
     },
     "metadata": {},
     "output_type": "display_data"
    }
   ],
   "source": [
    "sns.boxplot(x=df['quantity'], orient=\"v\", )"
   ]
  },
  {
   "cell_type": "markdown",
   "id": "6d073b28",
   "metadata": {},
   "source": [
    "This huge outliers are due to the fact that the dataframe contains Countries and Continents. Thus the wuantity of crude oil constitutees these outliers. We will segregate the dataframe into countries and continents"
   ]
  },
  {
   "cell_type": "markdown",
   "id": "20fb59d1",
   "metadata": {},
   "source": [
    "The name of the countries and the cities are inconsistent, we can standardize all the citiesby create a dictionary. We wil also remove some characters from the values."
   ]
  },
  {
   "cell_type": "code",
   "execution_count": 9,
   "id": "9ec4ca66",
   "metadata": {},
   "outputs": [],
   "source": [
    "#This function removes any slash from the values\n",
    "def remove_slash(destination_name):\n",
    "    if \"/\" in destination_name:\n",
    "        return destination_name[-2:]\n",
    "    else:\n",
    "        return destination_name"
   ]
  },
  {
   "cell_type": "code",
   "execution_count": 10,
   "id": "69733f7c",
   "metadata": {},
   "outputs": [],
   "source": [
    "# Apply the function to the 'destinationName' column\n",
    "df['destinationName'] = df['destinationName'].apply(remove_slash)"
   ]
  },
  {
   "cell_type": "code",
   "execution_count": 11,
   "id": "9a89222c",
   "metadata": {},
   "outputs": [],
   "source": [
    "# Create a dictionary for all cities in the United States\n",
    "state_abbreviations = {\n",
    "    'AL': 'Alabama', 'AK': 'Alaska', 'AZ': 'Arizona', 'AR': 'Arkansas', \n",
    "    'CA': 'California', 'CO': 'Colorado', 'CT': 'Connecticut', 'DE': 'Delaware', \n",
    "    'FL': 'Florida', 'GA': 'Georgia', 'HI': 'Hawaii', 'ID': 'Idaho', \n",
    "    'IL': 'Illinois', 'IN': 'Indiana', 'IA': 'Iowa', 'KS': 'Kansas', \n",
    "    'KY': 'Kentucky', 'LA': 'Louisiana', 'ME': 'Maine', 'MD': 'Maryland', \n",
    "    'MA': 'Massachusetts', 'MI': 'Michigan', 'MN': 'Minnesota', 'MS': 'Mississippi', \n",
    "    'MO': 'Missouri', 'MT': 'Montana', 'NE': 'Nebraska', 'NV': 'Nevada', \n",
    "    'NH': 'New Hampshire', 'NJ': 'New Jersey', 'NM': 'New Mexico', 'NY': 'New York', \n",
    "    'NC': 'North Carolina', 'ND': 'North Dakota', 'OH': 'Ohio', 'OK': 'Oklahoma', \n",
    "    'OR': 'Oregon', 'PA': 'Pennsylvania', 'RI': 'Rhode Island', \n",
    "    'SC': 'South Carolina', 'SD': 'South Dakota', 'TN': 'Tennessee', \n",
    "    'TX': 'Texas', 'UT': 'Utah', 'VT': 'Vermont', 'VA': 'Virginia', \n",
    "    'WA': 'Washington', 'WV': 'West Virginia', 'WI': 'Wisconsin', 'WY': 'Wyoming'\n",
    "    \n",
    "}\n",
    "\n",
    "# Function to replace abbreviations with full state names\n",
    "def replace_with_full_name(value):\n",
    "    # Check if the value matches any abbreviation\n",
    "    for abbr, full_name in state_abbreviations.items():\n",
    "        if abbr in value:\n",
    "            return value.replace(abbr, full_name)\n",
    "    return value\n",
    "\n",
    "# Apply the function to the 'location' column\n",
    "df['destination_city'] = df['destinationName'].apply(replace_with_full_name)"
   ]
  },
  {
   "cell_type": "code",
   "execution_count": 12,
   "id": "78d16c72",
   "metadata": {
    "scrolled": true
   },
   "outputs": [
    {
     "data": {
      "text/html": [
       "<div>\n",
       "<style scoped>\n",
       "    .dataframe tbody tr th:only-of-type {\n",
       "        vertical-align: middle;\n",
       "    }\n",
       "\n",
       "    .dataframe tbody tr th {\n",
       "        vertical-align: top;\n",
       "    }\n",
       "\n",
       "    .dataframe thead th {\n",
       "        text-align: right;\n",
       "    }\n",
       "</style>\n",
       "<table border=\"1\" class=\"dataframe\">\n",
       "  <thead>\n",
       "    <tr style=\"text-align: right;\">\n",
       "      <th></th>\n",
       "      <th>year</th>\n",
       "      <th>month</th>\n",
       "      <th>originName</th>\n",
       "      <th>originTypeName</th>\n",
       "      <th>destinationName</th>\n",
       "      <th>destinationTypeName</th>\n",
       "      <th>gradeName</th>\n",
       "      <th>quantity</th>\n",
       "      <th>destination_city</th>\n",
       "    </tr>\n",
       "  </thead>\n",
       "  <tbody>\n",
       "    <tr>\n",
       "      <th>0</th>\n",
       "      <td>2009</td>\n",
       "      <td>1</td>\n",
       "      <td>Belize</td>\n",
       "      <td>Country</td>\n",
       "      <td>TX</td>\n",
       "      <td>Refinery</td>\n",
       "      <td>Light Sour</td>\n",
       "      <td>61</td>\n",
       "      <td>Texas</td>\n",
       "    </tr>\n",
       "    <tr>\n",
       "      <th>1</th>\n",
       "      <td>2009</td>\n",
       "      <td>1</td>\n",
       "      <td>Belize</td>\n",
       "      <td>Country</td>\n",
       "      <td>TX</td>\n",
       "      <td>Refinery</td>\n",
       "      <td>Light Sour</td>\n",
       "      <td>62</td>\n",
       "      <td>Texas</td>\n",
       "    </tr>\n",
       "    <tr>\n",
       "      <th>2</th>\n",
       "      <td>2009</td>\n",
       "      <td>1</td>\n",
       "      <td>Algeria</td>\n",
       "      <td>Country</td>\n",
       "      <td>LA</td>\n",
       "      <td>Refinery</td>\n",
       "      <td>Light Sweet</td>\n",
       "      <td>10</td>\n",
       "      <td>Louisiana</td>\n",
       "    </tr>\n",
       "    <tr>\n",
       "      <th>3</th>\n",
       "      <td>2009</td>\n",
       "      <td>1</td>\n",
       "      <td>Algeria</td>\n",
       "      <td>Country</td>\n",
       "      <td>TX</td>\n",
       "      <td>Refinery</td>\n",
       "      <td>Light Sweet</td>\n",
       "      <td>381</td>\n",
       "      <td>Texas</td>\n",
       "    </tr>\n",
       "    <tr>\n",
       "      <th>4</th>\n",
       "      <td>2009</td>\n",
       "      <td>1</td>\n",
       "      <td>Algeria</td>\n",
       "      <td>Country</td>\n",
       "      <td>TX</td>\n",
       "      <td>Refinery</td>\n",
       "      <td>Light Sweet</td>\n",
       "      <td>851</td>\n",
       "      <td>Texas</td>\n",
       "    </tr>\n",
       "  </tbody>\n",
       "</table>\n",
       "</div>"
      ],
      "text/plain": [
       "   year  month originName originTypeName destinationName destinationTypeName  \\\n",
       "0  2009      1     Belize        Country              TX            Refinery   \n",
       "1  2009      1     Belize        Country              TX            Refinery   \n",
       "2  2009      1    Algeria        Country              LA            Refinery   \n",
       "3  2009      1    Algeria        Country              TX            Refinery   \n",
       "4  2009      1    Algeria        Country              TX            Refinery   \n",
       "\n",
       "     gradeName  quantity destination_city  \n",
       "0   Light Sour        61            Texas  \n",
       "1   Light Sour        62            Texas  \n",
       "2  Light Sweet        10        Louisiana  \n",
       "3  Light Sweet       381            Texas  \n",
       "4  Light Sweet       851            Texas  "
      ]
     },
     "execution_count": 12,
     "metadata": {},
     "output_type": "execute_result"
    }
   ],
   "source": [
    "df.head()"
   ]
  },
  {
   "cell_type": "markdown",
   "id": "c7bf5902",
   "metadata": {},
   "source": [
    "The destination_city names are now in appropriate format"
   ]
  },
  {
   "cell_type": "code",
   "execution_count": 13,
   "id": "ce3bf140",
   "metadata": {},
   "outputs": [],
   "source": [
    "df.drop(['destinationName'], axis=1, inplace=True)"
   ]
  },
  {
   "cell_type": "markdown",
   "id": "f7d8b1a5",
   "metadata": {},
   "source": [
    "- ***Convert `month`column data type to `month name` for better readibility*** "
   ]
  },
  {
   "cell_type": "code",
   "execution_count": 14,
   "id": "2b1af4db",
   "metadata": {},
   "outputs": [
    {
     "data": {
      "text/plain": [
       "array([ 1,  2,  3,  4,  5,  6,  7,  8,  9, 10, 11, 12], dtype=int64)"
      ]
     },
     "execution_count": 14,
     "metadata": {},
     "output_type": "execute_result"
    }
   ],
   "source": [
    "df['month'].unique()"
   ]
  },
  {
   "cell_type": "markdown",
   "id": "2a171e30",
   "metadata": {},
   "source": [
    "<div id='eda'></div>\n",
    "\n",
    "## 3. Exploratory Data Analysis\n",
    "\n",
    "This section explores the dataset in order to extract useful information."
   ]
  },
  {
   "cell_type": "markdown",
   "id": "ae78139d",
   "metadata": {},
   "source": [
    "\n",
    "**1. What are the summary statistics of the dataset?**"
   ]
  },
  {
   "cell_type": "code",
   "execution_count": 15,
   "id": "1d0e9bb3",
   "metadata": {
    "scrolled": true
   },
   "outputs": [
    {
     "data": {
      "text/html": [
       "<div>\n",
       "<style scoped>\n",
       "    .dataframe tbody tr th:only-of-type {\n",
       "        vertical-align: middle;\n",
       "    }\n",
       "\n",
       "    .dataframe tbody tr th {\n",
       "        vertical-align: top;\n",
       "    }\n",
       "\n",
       "    .dataframe thead th {\n",
       "        text-align: right;\n",
       "    }\n",
       "</style>\n",
       "<table border=\"1\" class=\"dataframe\">\n",
       "  <thead>\n",
       "    <tr style=\"text-align: right;\">\n",
       "      <th></th>\n",
       "      <th>year</th>\n",
       "      <th>month</th>\n",
       "      <th>quantity</th>\n",
       "    </tr>\n",
       "  </thead>\n",
       "  <tbody>\n",
       "    <tr>\n",
       "      <th>count</th>\n",
       "      <td>483053.000000</td>\n",
       "      <td>483053.000000</td>\n",
       "      <td>483053.000000</td>\n",
       "    </tr>\n",
       "    <tr>\n",
       "      <th>mean</th>\n",
       "      <td>2015.388875</td>\n",
       "      <td>6.459825</td>\n",
       "      <td>2425.239876</td>\n",
       "    </tr>\n",
       "    <tr>\n",
       "      <th>std</th>\n",
       "      <td>4.295262</td>\n",
       "      <td>3.435325</td>\n",
       "      <td>6367.700629</td>\n",
       "    </tr>\n",
       "    <tr>\n",
       "      <th>min</th>\n",
       "      <td>2009.000000</td>\n",
       "      <td>1.000000</td>\n",
       "      <td>1.000000</td>\n",
       "    </tr>\n",
       "    <tr>\n",
       "      <th>25%</th>\n",
       "      <td>2012.000000</td>\n",
       "      <td>3.000000</td>\n",
       "      <td>359.000000</td>\n",
       "    </tr>\n",
       "    <tr>\n",
       "      <th>50%</th>\n",
       "      <td>2015.000000</td>\n",
       "      <td>6.000000</td>\n",
       "      <td>804.000000</td>\n",
       "    </tr>\n",
       "    <tr>\n",
       "      <th>75%</th>\n",
       "      <td>2019.000000</td>\n",
       "      <td>9.000000</td>\n",
       "      <td>2008.000000</td>\n",
       "    </tr>\n",
       "    <tr>\n",
       "      <th>max</th>\n",
       "      <td>2024.000000</td>\n",
       "      <td>12.000000</td>\n",
       "      <td>141016.000000</td>\n",
       "    </tr>\n",
       "  </tbody>\n",
       "</table>\n",
       "</div>"
      ],
      "text/plain": [
       "                year          month       quantity\n",
       "count  483053.000000  483053.000000  483053.000000\n",
       "mean     2015.388875       6.459825    2425.239876\n",
       "std         4.295262       3.435325    6367.700629\n",
       "min      2009.000000       1.000000       1.000000\n",
       "25%      2012.000000       3.000000     359.000000\n",
       "50%      2015.000000       6.000000     804.000000\n",
       "75%      2019.000000       9.000000    2008.000000\n",
       "max      2024.000000      12.000000  141016.000000"
      ]
     },
     "execution_count": 15,
     "metadata": {},
     "output_type": "execute_result"
    }
   ],
   "source": [
    "# get the summary statisitcs of the datset\n",
    "df.describe()"
   ]
  },
  {
   "cell_type": "markdown",
   "id": "d6285eb6",
   "metadata": {},
   "source": [
    "The exportation of crude oil occured between 2009 to 2024. The highest quantity stood at 141016 barrels/day.\n",
    "\n",
    "**2. What is the quantity supplied by different countries and regions?**"
   ]
  },
  {
   "cell_type": "code",
   "execution_count": 16,
   "id": "80093fca",
   "metadata": {},
   "outputs": [],
   "source": [
    "# Quantity Supplied by each origin type Name\n",
    "origin_type_name = df.groupby('originTypeName')['quantity'].sum()"
   ]
  },
  {
   "cell_type": "code",
   "execution_count": 17,
   "id": "20b505d7",
   "metadata": {},
   "outputs": [
    {
     "data": {
      "text/plain": [
       "originTypeName\n",
       "Country          292894791\n",
       "OPEC/non-OPEC    292864908\n",
       "Region           292864908\n",
       "World            292894791\n",
       "Name: quantity, dtype: int64"
      ]
     },
     "execution_count": 17,
     "metadata": {},
     "output_type": "execute_result"
    }
   ],
   "source": [
    "origin_type_name"
   ]
  },
  {
   "cell_type": "code",
   "execution_count": 18,
   "id": "4bd6b1bf",
   "metadata": {
    "scrolled": true
   },
   "outputs": [
    {
     "data": {
      "text/html": [
       "<div>\n",
       "<style scoped>\n",
       "    .dataframe tbody tr th:only-of-type {\n",
       "        vertical-align: middle;\n",
       "    }\n",
       "\n",
       "    .dataframe tbody tr th {\n",
       "        vertical-align: top;\n",
       "    }\n",
       "\n",
       "    .dataframe thead th {\n",
       "        text-align: right;\n",
       "    }\n",
       "</style>\n",
       "<table border=\"1\" class=\"dataframe\">\n",
       "  <thead>\n",
       "    <tr style=\"text-align: right;\">\n",
       "      <th></th>\n",
       "      <th>year</th>\n",
       "      <th>month</th>\n",
       "      <th>originName</th>\n",
       "      <th>originTypeName</th>\n",
       "      <th>destinationTypeName</th>\n",
       "      <th>gradeName</th>\n",
       "      <th>quantity</th>\n",
       "      <th>destination_city</th>\n",
       "    </tr>\n",
       "  </thead>\n",
       "  <tbody>\n",
       "    <tr>\n",
       "      <th>1261</th>\n",
       "      <td>2009</td>\n",
       "      <td>1</td>\n",
       "      <td>Africa</td>\n",
       "      <td>Region</td>\n",
       "      <td>Refinery</td>\n",
       "      <td>Light Sweet</td>\n",
       "      <td>665</td>\n",
       "      <td>Louisiana</td>\n",
       "    </tr>\n",
       "    <tr>\n",
       "      <th>1262</th>\n",
       "      <td>2009</td>\n",
       "      <td>1</td>\n",
       "      <td>Africa</td>\n",
       "      <td>Region</td>\n",
       "      <td>Refinery</td>\n",
       "      <td>Medium</td>\n",
       "      <td>2417</td>\n",
       "      <td>Louisiana</td>\n",
       "    </tr>\n",
       "    <tr>\n",
       "      <th>1263</th>\n",
       "      <td>2009</td>\n",
       "      <td>1</td>\n",
       "      <td>Africa</td>\n",
       "      <td>Region</td>\n",
       "      <td>Refinery</td>\n",
       "      <td>Light Sweet</td>\n",
       "      <td>381</td>\n",
       "      <td>Texas</td>\n",
       "    </tr>\n",
       "    <tr>\n",
       "      <th>1264</th>\n",
       "      <td>2009</td>\n",
       "      <td>1</td>\n",
       "      <td>Africa</td>\n",
       "      <td>Region</td>\n",
       "      <td>Refinery</td>\n",
       "      <td>Light Sweet</td>\n",
       "      <td>1501</td>\n",
       "      <td>Texas</td>\n",
       "    </tr>\n",
       "    <tr>\n",
       "      <th>1265</th>\n",
       "      <td>2009</td>\n",
       "      <td>1</td>\n",
       "      <td>Africa</td>\n",
       "      <td>Region</td>\n",
       "      <td>Refinery</td>\n",
       "      <td>Medium</td>\n",
       "      <td>474</td>\n",
       "      <td>Texas</td>\n",
       "    </tr>\n",
       "    <tr>\n",
       "      <th>...</th>\n",
       "      <td>...</td>\n",
       "      <td>...</td>\n",
       "      <td>...</td>\n",
       "      <td>...</td>\n",
       "      <td>...</td>\n",
       "      <td>...</td>\n",
       "      <td>...</td>\n",
       "      <td>...</td>\n",
       "    </tr>\n",
       "    <tr>\n",
       "      <th>482172</th>\n",
       "      <td>2024</td>\n",
       "      <td>1</td>\n",
       "      <td>Canada (Region)</td>\n",
       "      <td>Region</td>\n",
       "      <td>United States</td>\n",
       "      <td>Heavy Sour</td>\n",
       "      <td>94239</td>\n",
       "      <td>United States</td>\n",
       "    </tr>\n",
       "    <tr>\n",
       "      <th>482173</th>\n",
       "      <td>2024</td>\n",
       "      <td>1</td>\n",
       "      <td>Canada (Region)</td>\n",
       "      <td>Region</td>\n",
       "      <td>United States</td>\n",
       "      <td>Heavy Sweet</td>\n",
       "      <td>7369</td>\n",
       "      <td>United States</td>\n",
       "    </tr>\n",
       "    <tr>\n",
       "      <th>482174</th>\n",
       "      <td>2024</td>\n",
       "      <td>1</td>\n",
       "      <td>Canada (Region)</td>\n",
       "      <td>Region</td>\n",
       "      <td>United States</td>\n",
       "      <td>Light Sour</td>\n",
       "      <td>3293</td>\n",
       "      <td>United States</td>\n",
       "    </tr>\n",
       "    <tr>\n",
       "      <th>482175</th>\n",
       "      <td>2024</td>\n",
       "      <td>1</td>\n",
       "      <td>Canada (Region)</td>\n",
       "      <td>Region</td>\n",
       "      <td>United States</td>\n",
       "      <td>Light Sweet</td>\n",
       "      <td>2809</td>\n",
       "      <td>United States</td>\n",
       "    </tr>\n",
       "    <tr>\n",
       "      <th>482176</th>\n",
       "      <td>2024</td>\n",
       "      <td>1</td>\n",
       "      <td>Canada (Region)</td>\n",
       "      <td>Region</td>\n",
       "      <td>United States</td>\n",
       "      <td>Medium</td>\n",
       "      <td>22004</td>\n",
       "      <td>United States</td>\n",
       "    </tr>\n",
       "  </tbody>\n",
       "</table>\n",
       "<p>124589 rows × 8 columns</p>\n",
       "</div>"
      ],
      "text/plain": [
       "        year  month       originName originTypeName destinationTypeName  \\\n",
       "1261    2009      1           Africa         Region            Refinery   \n",
       "1262    2009      1           Africa         Region            Refinery   \n",
       "1263    2009      1           Africa         Region            Refinery   \n",
       "1264    2009      1           Africa         Region            Refinery   \n",
       "1265    2009      1           Africa         Region            Refinery   \n",
       "...      ...    ...              ...            ...                 ...   \n",
       "482172  2024      1  Canada (Region)         Region       United States   \n",
       "482173  2024      1  Canada (Region)         Region       United States   \n",
       "482174  2024      1  Canada (Region)         Region       United States   \n",
       "482175  2024      1  Canada (Region)         Region       United States   \n",
       "482176  2024      1  Canada (Region)         Region       United States   \n",
       "\n",
       "          gradeName  quantity destination_city  \n",
       "1261    Light Sweet       665        Louisiana  \n",
       "1262         Medium      2417        Louisiana  \n",
       "1263    Light Sweet       381            Texas  \n",
       "1264    Light Sweet      1501            Texas  \n",
       "1265         Medium       474            Texas  \n",
       "...             ...       ...              ...  \n",
       "482172   Heavy Sour     94239    United States  \n",
       "482173  Heavy Sweet      7369    United States  \n",
       "482174   Light Sour      3293    United States  \n",
       "482175  Light Sweet      2809    United States  \n",
       "482176       Medium     22004    United States  \n",
       "\n",
       "[124589 rows x 8 columns]"
      ]
     },
     "execution_count": 18,
     "metadata": {},
     "output_type": "execute_result"
    }
   ],
   "source": [
    "# let's filter the dataframe by region and calculate the Quantity exported by each Region\n",
    "region = df[df['originTypeName'] == \"Region\"]\n",
    "region"
   ]
  },
  {
   "cell_type": "code",
   "execution_count": 19,
   "id": "69f89e1f",
   "metadata": {},
   "outputs": [
    {
     "data": {
      "text/plain": [
       "originTypeName\n",
       "Country          292894791\n",
       "OPEC/non-OPEC    292864908\n",
       "Region           292864908\n",
       "World            292894791\n",
       "Name: quantity, dtype: int64"
      ]
     },
     "execution_count": 19,
     "metadata": {},
     "output_type": "execute_result"
    }
   ],
   "source": [
    "region = df.groupby('originTypeName')['quantity'].sum()\n",
    "region"
   ]
  },
  {
   "cell_type": "code",
   "execution_count": 20,
   "id": "8d543e47",
   "metadata": {
    "scrolled": true
   },
   "outputs": [
    {
     "data": {
      "text/plain": [
       "Text(0.5, 1.0, 'Quantity of Crude Oil Exported to US from different Origin Type')"
      ]
     },
     "execution_count": 20,
     "metadata": {},
     "output_type": "execute_result"
    },
    {
     "data": {
      "image/png": "[encoded data removed]",
      "text/plain": [
       "<Figure size 720x432 with 1 Axes>"
      ]
     },
     "metadata": {},
     "output_type": "display_data"
    }
   ],
   "source": [
    "plt.figure(figsize = (10,6))\n",
    "region.plot(kind = \"bar\", color = \"skyblue\")\n",
    "plt.xlabel(\"Origin Type Name\")\n",
    "plt.ylabel(\"Quantity in Barrels/day\")\n",
    "plt.xticks(rotation = 0)\n",
    "plt.title(\"Quantity of Crude Oil Exported to US from different Origin Type\")"
   ]
  },
  {
   "cell_type": "markdown",
   "id": "d1907852",
   "metadata": {},
   "source": [
    "We can deduce from the above graph that the quantity supplied by different regions is nearly the same"
   ]
  },
  {
   "cell_type": "code",
   "execution_count": 21,
   "id": "b28ba855",
   "metadata": {},
   "outputs": [
    {
     "data": {
      "text/html": [
       "<div>\n",
       "<style scoped>\n",
       "    .dataframe tbody tr th:only-of-type {\n",
       "        vertical-align: middle;\n",
       "    }\n",
       "\n",
       "    .dataframe tbody tr th {\n",
       "        vertical-align: top;\n",
       "    }\n",
       "\n",
       "    .dataframe thead th {\n",
       "        text-align: right;\n",
       "    }\n",
       "</style>\n",
       "<table border=\"1\" class=\"dataframe\">\n",
       "  <thead>\n",
       "    <tr style=\"text-align: right;\">\n",
       "      <th></th>\n",
       "      <th>year</th>\n",
       "      <th>month</th>\n",
       "      <th>originName</th>\n",
       "      <th>originTypeName</th>\n",
       "      <th>destinationTypeName</th>\n",
       "      <th>gradeName</th>\n",
       "      <th>quantity</th>\n",
       "      <th>destination_city</th>\n",
       "    </tr>\n",
       "  </thead>\n",
       "  <tbody>\n",
       "    <tr>\n",
       "      <th>1261</th>\n",
       "      <td>2009</td>\n",
       "      <td>1</td>\n",
       "      <td>Africa</td>\n",
       "      <td>Region</td>\n",
       "      <td>Refinery</td>\n",
       "      <td>Light Sweet</td>\n",
       "      <td>665</td>\n",
       "      <td>Louisiana</td>\n",
       "    </tr>\n",
       "    <tr>\n",
       "      <th>1262</th>\n",
       "      <td>2009</td>\n",
       "      <td>1</td>\n",
       "      <td>Africa</td>\n",
       "      <td>Region</td>\n",
       "      <td>Refinery</td>\n",
       "      <td>Medium</td>\n",
       "      <td>2417</td>\n",
       "      <td>Louisiana</td>\n",
       "    </tr>\n",
       "    <tr>\n",
       "      <th>1263</th>\n",
       "      <td>2009</td>\n",
       "      <td>1</td>\n",
       "      <td>Africa</td>\n",
       "      <td>Region</td>\n",
       "      <td>Refinery</td>\n",
       "      <td>Light Sweet</td>\n",
       "      <td>381</td>\n",
       "      <td>Texas</td>\n",
       "    </tr>\n",
       "    <tr>\n",
       "      <th>1264</th>\n",
       "      <td>2009</td>\n",
       "      <td>1</td>\n",
       "      <td>Africa</td>\n",
       "      <td>Region</td>\n",
       "      <td>Refinery</td>\n",
       "      <td>Light Sweet</td>\n",
       "      <td>1501</td>\n",
       "      <td>Texas</td>\n",
       "    </tr>\n",
       "    <tr>\n",
       "      <th>1265</th>\n",
       "      <td>2009</td>\n",
       "      <td>1</td>\n",
       "      <td>Africa</td>\n",
       "      <td>Region</td>\n",
       "      <td>Refinery</td>\n",
       "      <td>Medium</td>\n",
       "      <td>474</td>\n",
       "      <td>Texas</td>\n",
       "    </tr>\n",
       "  </tbody>\n",
       "</table>\n",
       "</div>"
      ],
      "text/plain": [
       "      year  month originName originTypeName destinationTypeName    gradeName  \\\n",
       "1261  2009      1     Africa         Region            Refinery  Light Sweet   \n",
       "1262  2009      1     Africa         Region            Refinery       Medium   \n",
       "1263  2009      1     Africa         Region            Refinery  Light Sweet   \n",
       "1264  2009      1     Africa         Region            Refinery  Light Sweet   \n",
       "1265  2009      1     Africa         Region            Refinery       Medium   \n",
       "\n",
       "      quantity destination_city  \n",
       "1261       665        Louisiana  \n",
       "1262      2417        Louisiana  \n",
       "1263       381            Texas  \n",
       "1264      1501            Texas  \n",
       "1265       474            Texas  "
      ]
     },
     "execution_count": 21,
     "metadata": {},
     "output_type": "execute_result"
    }
   ],
   "source": [
    "# Quantity supplied by each Continent\n",
    "continent = df[df['originTypeName'] == \"Region\"]\n",
    "continent.head()"
   ]
  },
  {
   "cell_type": "code",
   "execution_count": 22,
   "id": "9ba7fbdd",
   "metadata": {},
   "outputs": [
    {
     "data": {
      "text/plain": [
       "originName\n",
       "Africa              28430339\n",
       "Asia-Pacific         1622775\n",
       "Canada (Region)    119406217\n",
       "Eurasia              5201245\n",
       "Europe               2933049\n",
       "Middle East         53983965\n",
       "Other Americas      81287318\n",
       "Name: quantity, dtype: int64"
      ]
     },
     "execution_count": 22,
     "metadata": {},
     "output_type": "execute_result"
    }
   ],
   "source": [
    "continent_group = continent.groupby('originName')['quantity'].sum()\n",
    "continent_group"
   ]
  },
  {
   "cell_type": "code",
   "execution_count": 23,
   "id": "bbef13d2",
   "metadata": {
    "scrolled": false
   },
   "outputs": [
    {
     "data": {
      "image/png": "[encoded data removed]",
      "text/plain": [
       "<Figure size 576x288 with 1 Axes>"
      ]
     },
     "metadata": {},
     "output_type": "display_data"
    }
   ],
   "source": [
    "plt.figure(figsize = (8,4))\n",
    "continent_group.sort_values(ascending = False).plot(kind = \"bar\", color = \"skyblue\")\n",
    "plt.title(\"Quantity exported by different Continents\")\n",
    "plt.xlabel(\"Continents\")\n",
    "plt.ylabel(\"Quantity in Barrels/day\")\n",
    "plt.xticks(rotation = 45)\n",
    "plt.tight_layout()\n",
    "plt.show()"
   ]
  },
  {
   "cell_type": "markdown",
   "id": "104b2bbc",
   "metadata": {},
   "source": [
    "Quantity of crude oil exported by Canada stood higher followed by Other Americas. However, Eurasia, Europe, and Asia-pacific are quite smaller combined with Middle east and Africa"
   ]
  },
  {
   "cell_type": "code",
   "execution_count": 24,
   "id": "7ef26fcc",
   "metadata": {},
   "outputs": [
    {
     "data": {
      "text/html": [
       "<div>\n",
       "<style scoped>\n",
       "    .dataframe tbody tr th:only-of-type {\n",
       "        vertical-align: middle;\n",
       "    }\n",
       "\n",
       "    .dataframe tbody tr th {\n",
       "        vertical-align: top;\n",
       "    }\n",
       "\n",
       "    .dataframe thead th {\n",
       "        text-align: right;\n",
       "    }\n",
       "</style>\n",
       "<table border=\"1\" class=\"dataframe\">\n",
       "  <thead>\n",
       "    <tr style=\"text-align: right;\">\n",
       "      <th></th>\n",
       "      <th>year</th>\n",
       "      <th>month</th>\n",
       "      <th>originName</th>\n",
       "      <th>originTypeName</th>\n",
       "      <th>destinationTypeName</th>\n",
       "      <th>gradeName</th>\n",
       "      <th>quantity</th>\n",
       "      <th>destination_city</th>\n",
       "    </tr>\n",
       "  </thead>\n",
       "  <tbody>\n",
       "    <tr>\n",
       "      <th>0</th>\n",
       "      <td>2009</td>\n",
       "      <td>1</td>\n",
       "      <td>Belize</td>\n",
       "      <td>Country</td>\n",
       "      <td>Refinery</td>\n",
       "      <td>Light Sour</td>\n",
       "      <td>61</td>\n",
       "      <td>Texas</td>\n",
       "    </tr>\n",
       "    <tr>\n",
       "      <th>1</th>\n",
       "      <td>2009</td>\n",
       "      <td>1</td>\n",
       "      <td>Belize</td>\n",
       "      <td>Country</td>\n",
       "      <td>Refinery</td>\n",
       "      <td>Light Sour</td>\n",
       "      <td>62</td>\n",
       "      <td>Texas</td>\n",
       "    </tr>\n",
       "    <tr>\n",
       "      <th>2</th>\n",
       "      <td>2009</td>\n",
       "      <td>1</td>\n",
       "      <td>Algeria</td>\n",
       "      <td>Country</td>\n",
       "      <td>Refinery</td>\n",
       "      <td>Light Sweet</td>\n",
       "      <td>10</td>\n",
       "      <td>Louisiana</td>\n",
       "    </tr>\n",
       "    <tr>\n",
       "      <th>3</th>\n",
       "      <td>2009</td>\n",
       "      <td>1</td>\n",
       "      <td>Algeria</td>\n",
       "      <td>Country</td>\n",
       "      <td>Refinery</td>\n",
       "      <td>Light Sweet</td>\n",
       "      <td>381</td>\n",
       "      <td>Texas</td>\n",
       "    </tr>\n",
       "    <tr>\n",
       "      <th>4</th>\n",
       "      <td>2009</td>\n",
       "      <td>1</td>\n",
       "      <td>Algeria</td>\n",
       "      <td>Country</td>\n",
       "      <td>Refinery</td>\n",
       "      <td>Light Sweet</td>\n",
       "      <td>851</td>\n",
       "      <td>Texas</td>\n",
       "    </tr>\n",
       "    <tr>\n",
       "      <th>...</th>\n",
       "      <td>...</td>\n",
       "      <td>...</td>\n",
       "      <td>...</td>\n",
       "      <td>...</td>\n",
       "      <td>...</td>\n",
       "      <td>...</td>\n",
       "      <td>...</td>\n",
       "      <td>...</td>\n",
       "    </tr>\n",
       "    <tr>\n",
       "      <th>481637</th>\n",
       "      <td>2024</td>\n",
       "      <td>1</td>\n",
       "      <td>Brazil</td>\n",
       "      <td>Country</td>\n",
       "      <td>United States</td>\n",
       "      <td>Light Sweet</td>\n",
       "      <td>497</td>\n",
       "      <td>United States</td>\n",
       "    </tr>\n",
       "    <tr>\n",
       "      <th>481638</th>\n",
       "      <td>2024</td>\n",
       "      <td>1</td>\n",
       "      <td>Brazil</td>\n",
       "      <td>Country</td>\n",
       "      <td>United States</td>\n",
       "      <td>Medium</td>\n",
       "      <td>5448</td>\n",
       "      <td>United States</td>\n",
       "    </tr>\n",
       "    <tr>\n",
       "      <th>481639</th>\n",
       "      <td>2024</td>\n",
       "      <td>1</td>\n",
       "      <td>Mexico</td>\n",
       "      <td>Country</td>\n",
       "      <td>United States</td>\n",
       "      <td>Heavy Sour</td>\n",
       "      <td>7700</td>\n",
       "      <td>United States</td>\n",
       "    </tr>\n",
       "    <tr>\n",
       "      <th>481640</th>\n",
       "      <td>2024</td>\n",
       "      <td>1</td>\n",
       "      <td>Mexico</td>\n",
       "      <td>Country</td>\n",
       "      <td>United States</td>\n",
       "      <td>Light Sour</td>\n",
       "      <td>2496</td>\n",
       "      <td>United States</td>\n",
       "    </tr>\n",
       "    <tr>\n",
       "      <th>481641</th>\n",
       "      <td>2024</td>\n",
       "      <td>1</td>\n",
       "      <td>Mexico</td>\n",
       "      <td>Country</td>\n",
       "      <td>United States</td>\n",
       "      <td>Medium</td>\n",
       "      <td>5954</td>\n",
       "      <td>United States</td>\n",
       "    </tr>\n",
       "  </tbody>\n",
       "</table>\n",
       "<p>163003 rows × 8 columns</p>\n",
       "</div>"
      ],
      "text/plain": [
       "        year  month originName originTypeName destinationTypeName  \\\n",
       "0       2009      1     Belize        Country            Refinery   \n",
       "1       2009      1     Belize        Country            Refinery   \n",
       "2       2009      1    Algeria        Country            Refinery   \n",
       "3       2009      1    Algeria        Country            Refinery   \n",
       "4       2009      1    Algeria        Country            Refinery   \n",
       "...      ...    ...        ...            ...                 ...   \n",
       "481637  2024      1     Brazil        Country       United States   \n",
       "481638  2024      1     Brazil        Country       United States   \n",
       "481639  2024      1     Mexico        Country       United States   \n",
       "481640  2024      1     Mexico        Country       United States   \n",
       "481641  2024      1     Mexico        Country       United States   \n",
       "\n",
       "          gradeName  quantity destination_city  \n",
       "0        Light Sour        61            Texas  \n",
       "1        Light Sour        62            Texas  \n",
       "2       Light Sweet        10        Louisiana  \n",
       "3       Light Sweet       381            Texas  \n",
       "4       Light Sweet       851            Texas  \n",
       "...             ...       ...              ...  \n",
       "481637  Light Sweet       497    United States  \n",
       "481638       Medium      5448    United States  \n",
       "481639   Heavy Sour      7700    United States  \n",
       "481640   Light Sour      2496    United States  \n",
       "481641       Medium      5954    United States  \n",
       "\n",
       "[163003 rows x 8 columns]"
      ]
     },
     "execution_count": 24,
     "metadata": {},
     "output_type": "execute_result"
    }
   ],
   "source": [
    "# Quantity exported by each Country\n",
    "country = df[df['originTypeName'] == \"Country\"]\n",
    "country"
   ]
  },
  {
   "cell_type": "code",
   "execution_count": 25,
   "id": "cbba4c5d",
   "metadata": {},
   "outputs": [
    {
     "data": {
      "text/plain": [
       "originName\n",
       "Canada          119406217\n",
       "Saudi Arabia     33678442\n",
       "Mexico           29971333\n",
       "Venezuela        22031954\n",
       "Iraq             13751493\n",
       "Name: quantity, dtype: int64"
      ]
     },
     "execution_count": 25,
     "metadata": {},
     "output_type": "execute_result"
    }
   ],
   "source": [
    "country_group = country.groupby(\"originName\")['quantity'].sum()\n",
    "top_5_countries = country_group.sort_values(ascending = False).head()\n",
    "top_5_countries"
   ]
  },
  {
   "cell_type": "code",
   "execution_count": 26,
   "id": "b330d64c",
   "metadata": {},
   "outputs": [
    {
     "data": {
      "image/png": "[encoded data removed]",
      "text/plain": [
       "<Figure size 720x432 with 1 Axes>"
      ]
     },
     "metadata": {},
     "output_type": "display_data"
    }
   ],
   "source": [
    "plt.figure(figsize = (10,6))\n",
    "top_5_countries.plot(kind = \"bar\", color = \"skyblue\")\n",
    "plt.title(\"Top 5 countries exporting crude oil ti the US from 2009 to 2024\")\n",
    "plt.xlabel(\"Countries\")\n",
    "plt.ylabel(\"Total Quantity\")\n",
    "plt.xticks(rotation = 0)\n",
    "plt.tight_layout()\n",
    "plt.show()"
   ]
  },
  {
   "cell_type": "markdown",
   "id": "c6d605a1",
   "metadata": {},
   "source": [
    "Canada supply more crude oil to the US far better than Saudi Arbia, Mexico countries, and venezuela combined. Iraq export least quantity. "
   ]
  },
  {
   "cell_type": "code",
   "execution_count": 27,
   "id": "86e0692d",
   "metadata": {},
   "outputs": [
    {
     "data": {
      "text/plain": [
       "originName\n",
       "Barbados             350\n",
       "Spain               1358\n",
       "South Africa        3619\n",
       "Panama              4354\n",
       "Papua New Guinea    4767\n",
       "Name: quantity, dtype: int64"
      ]
     },
     "execution_count": 27,
     "metadata": {},
     "output_type": "execute_result"
    }
   ],
   "source": [
    "least_5_countries = country_group.sort_values().head()\n",
    "least_5_countries"
   ]
  },
  {
   "cell_type": "code",
   "execution_count": 28,
   "id": "427d63c6",
   "metadata": {
    "scrolled": true
   },
   "outputs": [
    {
     "data": {
      "image/png": "[encoded data removed]",
      "text/plain": [
       "<Figure size 720x432 with 1 Axes>"
      ]
     },
     "metadata": {},
     "output_type": "display_data"
    }
   ],
   "source": [
    "plt.figure(figsize = (10,6))\n",
    "least_5_countries.plot(kind = \"bar\", color = \"skyblue\")\n",
    "plt.title(\"Top 5 countries exporting crude oil ti the US from 2009 to 2024\")\n",
    "plt.xlabel(\"Countries\")\n",
    "plt.ylabel(\"Total Quantity\")\n",
    "plt.xticks(rotation = 45)\n",
    "plt.tight_layout()\n",
    "plt.show()"
   ]
  },
  {
   "cell_type": "code",
   "execution_count": 29,
   "id": "97514533",
   "metadata": {},
   "outputs": [
    {
     "data": {
      "text/plain": [
       "array(['Light Sour', 'Light Sweet', 'Heavy Sweet', 'Heavy Sour', 'Medium'],\n",
       "      dtype=object)"
      ]
     },
     "execution_count": 29,
     "metadata": {},
     "output_type": "execute_result"
    }
   ],
   "source": [
    "df[\"gradeName\"].unique()"
   ]
  },
  {
   "cell_type": "code",
   "execution_count": 30,
   "id": "fc20f21d",
   "metadata": {},
   "outputs": [
    {
     "data": {
      "text/plain": [
       "destinationTypeName\n",
       "Port              167359914\n",
       "Port PADD         167359914\n",
       "Port State        167359914\n",
       "Refinery          167359914\n",
       "Refinery PADD     167359914\n",
       "Refinery State    167359914\n",
       "United States     167359914\n",
       "Name: quantity, dtype: int64"
      ]
     },
     "execution_count": 30,
     "metadata": {},
     "output_type": "execute_result"
    }
   ],
   "source": [
    "# Quantity supplied to each destination\n",
    "destination = df.groupby('destinationTypeName')['quantity'].sum()\n",
    "destination"
   ]
  },
  {
   "cell_type": "code",
   "execution_count": 31,
   "id": "670ba5f6",
   "metadata": {},
   "outputs": [
    {
     "data": {
      "text/plain": [
       "gradeName\n",
       "Heavy Sour     598600688\n",
       "Medium         372162574\n",
       "Light Sweet     99507912\n",
       "Light Sour      55276984\n",
       "Heavy Sweet     45971240\n",
       "Name: quantity, dtype: int64"
      ]
     },
     "execution_count": 31,
     "metadata": {},
     "output_type": "execute_result"
    }
   ],
   "source": [
    "# Quantity of different grade. Heavy sour has high level of impurity. Thus it's environmentally unfriendly.\n",
    "grade_name = df.groupby('gradeName')['quantity'].sum()\n",
    "grade_name = grade_name.sort_values(ascending = False).head()\n",
    "grade_name"
   ]
  },
  {
   "cell_type": "code",
   "execution_count": 32,
   "id": "af3520ae",
   "metadata": {
    "scrolled": true
   },
   "outputs": [
    {
     "data": {
      "image/png": "[encoded data removed]",
      "text/plain": [
       "<Figure size 720x288 with 1 Axes>"
      ]
     },
     "metadata": {},
     "output_type": "display_data"
    }
   ],
   "source": [
    "plt.figure(figsize = (10,4))\n",
    "grade_name.plot(kind = \"bar\", color = \"skyblue\")\n",
    "plt.title(\"Quantity of varying grade Name\")\n",
    "plt.xlabel(\"Countries\")\n",
    "plt.ylabel(\"Total Quantity\")\n",
    "plt.xticks(rotation = 0)\n",
    "plt.tight_layout()\n",
    "plt.show()"
   ]
  },
  {
   "cell_type": "code",
   "execution_count": 33,
   "id": "5fca981a",
   "metadata": {},
   "outputs": [],
   "source": [
    "# Clustered bar chart"
   ]
  },
  {
   "cell_type": "code",
   "execution_count": 34,
   "id": "fd0774d7",
   "metadata": {},
   "outputs": [
    {
     "data": {
      "text/html": [
       "<div>\n",
       "<style scoped>\n",
       "    .dataframe tbody tr th:only-of-type {\n",
       "        vertical-align: middle;\n",
       "    }\n",
       "\n",
       "    .dataframe tbody tr th {\n",
       "        vertical-align: top;\n",
       "    }\n",
       "\n",
       "    .dataframe thead th {\n",
       "        text-align: right;\n",
       "    }\n",
       "</style>\n",
       "<table border=\"1\" class=\"dataframe\">\n",
       "  <thead>\n",
       "    <tr style=\"text-align: right;\">\n",
       "      <th></th>\n",
       "      <th>year</th>\n",
       "      <th>quantity</th>\n",
       "    </tr>\n",
       "  </thead>\n",
       "  <tbody>\n",
       "    <tr>\n",
       "      <th>0</th>\n",
       "      <td>2009</td>\n",
       "      <td>61</td>\n",
       "    </tr>\n",
       "    <tr>\n",
       "      <th>1</th>\n",
       "      <td>2009</td>\n",
       "      <td>62</td>\n",
       "    </tr>\n",
       "    <tr>\n",
       "      <th>2</th>\n",
       "      <td>2009</td>\n",
       "      <td>10</td>\n",
       "    </tr>\n",
       "    <tr>\n",
       "      <th>3</th>\n",
       "      <td>2009</td>\n",
       "      <td>381</td>\n",
       "    </tr>\n",
       "    <tr>\n",
       "      <th>4</th>\n",
       "      <td>2009</td>\n",
       "      <td>851</td>\n",
       "    </tr>\n",
       "  </tbody>\n",
       "</table>\n",
       "</div>"
      ],
      "text/plain": [
       "   year  quantity\n",
       "0  2009        61\n",
       "1  2009        62\n",
       "2  2009        10\n",
       "3  2009       381\n",
       "4  2009       851"
      ]
     },
     "execution_count": 34,
     "metadata": {},
     "output_type": "execute_result"
    }
   ],
   "source": [
    "# Trend of crude oil importation from 2009 to 2023. Only January is in 2024, so we can drop it\n",
    "year_qty = df[['year','quantity']]\n",
    "year_qty.head()"
   ]
  },
  {
   "cell_type": "code",
   "execution_count": 35,
   "id": "16cc7954",
   "metadata": {
    "scrolled": false
   },
   "outputs": [
    {
     "data": {
      "text/html": [
       "<div>\n",
       "<style scoped>\n",
       "    .dataframe tbody tr th:only-of-type {\n",
       "        vertical-align: middle;\n",
       "    }\n",
       "\n",
       "    .dataframe tbody tr th {\n",
       "        vertical-align: top;\n",
       "    }\n",
       "\n",
       "    .dataframe thead th {\n",
       "        text-align: right;\n",
       "    }\n",
       "</style>\n",
       "<table border=\"1\" class=\"dataframe\">\n",
       "  <thead>\n",
       "    <tr style=\"text-align: right;\">\n",
       "      <th></th>\n",
       "      <th>year</th>\n",
       "      <th>quantity</th>\n",
       "    </tr>\n",
       "  </thead>\n",
       "  <tbody>\n",
       "    <tr>\n",
       "      <th>0</th>\n",
       "      <td>2009</td>\n",
       "      <td>61</td>\n",
       "    </tr>\n",
       "    <tr>\n",
       "      <th>1</th>\n",
       "      <td>2009</td>\n",
       "      <td>62</td>\n",
       "    </tr>\n",
       "    <tr>\n",
       "      <th>2</th>\n",
       "      <td>2009</td>\n",
       "      <td>10</td>\n",
       "    </tr>\n",
       "    <tr>\n",
       "      <th>3</th>\n",
       "      <td>2009</td>\n",
       "      <td>381</td>\n",
       "    </tr>\n",
       "    <tr>\n",
       "      <th>4</th>\n",
       "      <td>2009</td>\n",
       "      <td>851</td>\n",
       "    </tr>\n",
       "  </tbody>\n",
       "</table>\n",
       "</div>"
      ],
      "text/plain": [
       "   year  quantity\n",
       "0  2009        61\n",
       "1  2009        62\n",
       "2  2009        10\n",
       "3  2009       381\n",
       "4  2009       851"
      ]
     },
     "execution_count": 35,
     "metadata": {},
     "output_type": "execute_result"
    }
   ],
   "source": [
    "year_qty.head()"
   ]
  },
  {
   "cell_type": "code",
   "execution_count": 36,
   "id": "3b64b5d0",
   "metadata": {
    "scrolled": true
   },
   "outputs": [
    {
     "data": {
      "text/plain": [
       "year\n",
       "2009    95.269076\n",
       "2010    97.581904\n",
       "2011    93.872828\n",
       "2012    86.378796\n",
       "2013    78.700272\n",
       "2014    75.049128\n",
       "2015    75.247452\n",
       "2016    80.446408\n",
       "2017    81.483304\n",
       "2018    79.381288\n",
       "2019    69.253016\n",
       "2020    60.324572\n",
       "2021    62.620782\n",
       "2022    64.215886\n",
       "2023    65.943430\n",
       "2024     5.751256\n",
       "Name: quantity, dtype: float64"
      ]
     },
     "execution_count": 36,
     "metadata": {},
     "output_type": "execute_result"
    }
   ],
   "source": [
    "group_year_qty = year_qty.groupby(\"year\")['quantity'].sum()/1000000\n",
    "group_year_qty"
   ]
  },
  {
   "cell_type": "code",
   "execution_count": 37,
   "id": "92fbf9b8",
   "metadata": {
    "scrolled": true
   },
   "outputs": [
    {
     "data": {
      "image/png": "[encoded data removed]",
      "text/plain": [
       "<Figure size 720x288 with 1 Axes>"
      ]
     },
     "metadata": {},
     "output_type": "display_data"
    }
   ],
   "source": [
    "plt.figure(figsize=(10, 4))\n",
    "group_year_qty.plot(kind='line', color='blue')\n",
    "plt.title('of Crude oil to US from 2009 t0 2023')\n",
    "plt.xlabel('Year')\n",
    "plt.ylabel('Quantity (in million barrels/day)')\n",
    "plt.xticks(rotation=0)\n",
    "plt.tight_layout()\n",
    "plt.show()"
   ]
  },
  {
   "cell_type": "code",
   "execution_count": null,
   "id": "fea6bd15",
   "metadata": {},
   "outputs": [],
   "source": []
  },
  {
   "cell_type": "code",
   "execution_count": 38,
   "id": "8edd11cd",
   "metadata": {},
   "outputs": [],
   "source": [
    "#Lets split the dataset into training and test dataset\n",
    "from sklearn.model_selection import train_test_split\n",
    "\n",
    "# Features and target\n",
    "X = df[['year']]\n",
    "y = df['quantity']\n",
    "\n",
    "# Split the data\n",
    "X_train, X_test, y_train, y_test = train_test_split(X, y, test_size=0.2, random_state=42)"
   ]
  },
  {
   "cell_type": "code",
   "execution_count": 39,
   "id": "6c6638db",
   "metadata": {},
   "outputs": [
    {
     "data": {
      "text/plain": [
       "LinearRegression()"
      ]
     },
     "execution_count": 39,
     "metadata": {},
     "output_type": "execute_result"
    }
   ],
   "source": [
    "#Let's use a linear regression model for this example:\n",
    "from sklearn.linear_model import LinearRegression\n",
    "\n",
    "# Initialize the model\n",
    "model = LinearRegression()\n",
    "\n",
    "# Train the model\n",
    "model.fit(X_train, y_train)"
   ]
  },
  {
   "cell_type": "code",
   "execution_count": 40,
   "id": "32f57ddd",
   "metadata": {},
   "outputs": [
    {
     "data": {
      "text/plain": [
       "array([2377.92654085, 2369.25389449, 2421.28977268, ..., 2438.63506541,\n",
       "       2429.96241904, 2412.61712631])"
      ]
     },
     "execution_count": 40,
     "metadata": {},
     "output_type": "execute_result"
    }
   ],
   "source": [
    "#Use the trained model to make predictions:\n",
    "\n",
    "# Make predictions\n",
    "y_pred = model.predict(X_test)\n",
    "\n",
    "# Display the predictions\n",
    "y_pred"
   ]
  },
  {
   "cell_type": "code",
   "execution_count": 41,
   "id": "5328ef31",
   "metadata": {},
   "outputs": [
    {
     "data": {
      "text/plain": [
       "(2656.3101005455783, 41734966.5622714)"
      ]
     },
     "execution_count": 41,
     "metadata": {},
     "output_type": "execute_result"
    }
   ],
   "source": [
    "#Evaluate the model using metrics like Mean Absolute Error (MAE) and Mean Squared Error (MSE):\n",
    "\n",
    "from sklearn.metrics import mean_absolute_error, mean_squared_error\n",
    "\n",
    "# Calculate MAE and MSE\n",
    "mae = mean_absolute_error(y_test, y_pred)\n",
    "mse = mean_squared_error(y_test, y_pred)\n",
    "\n",
    "mae, mse"
   ]
  },
  {
   "cell_type": "code",
   "execution_count": 42,
   "id": "959bc197",
   "metadata": {},
   "outputs": [
    {
     "data": {
      "text/plain": [
       "array([2377.92654085, 2369.25389449, 2421.28977268, ..., 2438.63506541,\n",
       "       2429.96241904, 2412.61712631])"
      ]
     },
     "execution_count": 42,
     "metadata": {},
     "output_type": "execute_result"
    }
   ],
   "source": [
    "y_pred"
   ]
  },
  {
   "cell_type": "markdown",
   "id": "e97f732a",
   "metadata": {},
   "source": [
    "<div id='conclusion'></div>\n",
    "\n",
    "## 4. CONCLUSION\n",
    "\n",
    "In our analysis, we get valuable insights from this dataset. we have seen the top continenets and countries that contribute more crude oil to the US. We also get to know the differrent types of crude oil mostly imported. This analysis is helpful for the government to make evidence-based decisions."
   ]
  }
 ],
 "metadata": {
  "kernelspec": {
   "display_name": "Python 3 (ipykernel)",
   "language": "python",
   "name": "python3"
  },
  "language_info": {
   "codemirror_mode": {
    "name": "ipython",
    "version": 3
   },
   "file_extension": ".py",
   "mimetype": "text/x-python",
   "name": "python",
   "nbconvert_exporter": "python",
   "pygments_lexer": "ipython3",
   "version": "3.9.7"
  }
 },
 "nbformat": 4,
 "nbformat_minor": 5
}
